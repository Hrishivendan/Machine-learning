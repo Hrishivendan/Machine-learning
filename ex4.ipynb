{
  "nbformat": 4,
  "nbformat_minor": 0,
  "metadata": {
    "colab": {
      "provenance": [],
      "authorship_tag": "ABX9TyP9+POyVrXv6W0VKIoqkDet",
      "include_colab_link": true
    },
    "kernelspec": {
      "name": "python3",
      "display_name": "Python 3"
    },
    "language_info": {
      "name": "python"
    }
  },
  "cells": [
    {
      "cell_type": "markdown",
      "metadata": {
        "id": "view-in-github",
        "colab_type": "text"
      },
      "source": [
        "<a href=\"https://colab.research.google.com/github/Hrishivendan/Machine-learning/blob/main/ex4.ipynb\" target=\"_parent\"><img src=\"https://colab.research.google.com/assets/colab-badge.svg\" alt=\"Open In Colab\"/></a>"
      ]
    },
    {
      "cell_type": "code",
      "execution_count": 1,
      "metadata": {
        "id": "zTuDl-84um0l"
      },
      "outputs": [],
      "source": [
        "import numpy as np\n",
        "\n",
        "\n",
        "\n",
        "X = np.array([[0,0],\n",
        "              [0,1],\n",
        "              [1,0],\n",
        "              [1,1]])\n",
        "\n",
        "Y = np.array([0, 0, 0, 1])"
      ]
    },
    {
      "cell_type": "code",
      "source": [
        "w = np.array([0.3, -0.2])\n",
        "bias = -0.4"
      ],
      "metadata": {
        "id": "EoAYLGG7u0QI"
      },
      "execution_count": 2,
      "outputs": []
    },
    {
      "cell_type": "code",
      "source": [
        "eta = 0.2"
      ],
      "metadata": {
        "id": "YhChN15Zu45x"
      },
      "execution_count": 3,
      "outputs": []
    },
    {
      "cell_type": "code",
      "source": [
        "def activation(net):\n",
        "      return 1 if net >= 0 else 0\n",
        ""
      ],
      "metadata": {
        "id": "0zP_UuH7u6yW"
      },
      "execution_count": 4,
      "outputs": []
    },
    {
      "cell_type": "code",
      "source": [
        "epochs = 10\n",
        "for epoch in range(epochs):\n",
        "      print(f\"\\nEpoch {epoch+1}\")\n"
      ],
      "metadata": {
        "colab": {
          "base_uri": "https://localhost:8080/"
        },
        "id": "iZhJTcUzu9Ny",
        "outputId": "890545b3-d91b-4358-cc5c-c77ce8abe8d2"
      },
      "execution_count": 6,
      "outputs": [
        {
          "output_type": "stream",
          "name": "stdout",
          "text": [
            "\n",
            "Epoch 1\n",
            "\n",
            "Epoch 2\n",
            "\n",
            "Epoch 3\n",
            "\n",
            "Epoch 4\n",
            "\n",
            "Epoch 5\n",
            "\n",
            "Epoch 6\n",
            "\n",
            "Epoch 7\n",
            "\n",
            "Epoch 8\n",
            "\n",
            "Epoch 9\n",
            "\n",
            "Epoch 10\n"
          ]
        }
      ]
    },
    {
      "cell_type": "code",
      "source": [
        "error_count = 0"
      ],
      "metadata": {
        "id": "GwSjQ21cvMA0"
      },
      "execution_count": 7,
      "outputs": []
    },
    {
      "cell_type": "code",
      "source": [
        "for i in range(len(X)):\n",
        "          x = X[i]\n",
        "          y = Y[i]\n",
        "          net = np.dot(x, w) + bias\n",
        "          y_pred = activation(net)\n",
        "          error = y - y_pred"
      ],
      "metadata": {
        "id": "fNWPnOm6vO43"
      },
      "execution_count": 8,
      "outputs": []
    },
    {
      "cell_type": "code",
      "source": [
        "if error != 0:\n",
        "                w = w + eta * error * x\n",
        "                bias = bias + eta * error\n",
        "                error_count += 1\n",
        "                print(f\"Update: Input={x}, Target={y}, Pred={y_pred}, Error={error}, New Weights={w}, New Bias={bias}\")\n",
        "\n",
        "else:\n",
        "                print(f\"No change: Input={x}, Target={y}, Pred={y_pred}\")"
      ],
      "metadata": {
        "colab": {
          "base_uri": "https://localhost:8080/"
        },
        "id": "0Dz-neuYvgBF",
        "outputId": "d66df00a-752f-43ab-d367-6284f5c3982a"
      },
      "execution_count": 10,
      "outputs": [
        {
          "output_type": "stream",
          "name": "stdout",
          "text": [
            "Update: Input=[1 1], Target=1, Pred=0, Error=1, New Weights=[0.7 0.2], New Bias=0.0\n"
          ]
        }
      ]
    },
    {
      "cell_type": "code",
      "source": [
        "if error_count == 0:\n",
        "   print(\"\\nTraining converged.\")\n",
        "\n",
        "\n",
        "\n",
        "print(\"\\nFinal Results:\")\n",
        "for i in range(len(X)):\n",
        "    net = np.dot(X[i], w) + bias\n",
        "    y_pred = activation(net)\n",
        "    print(f\"Input: {X[i]} → Output: {y_pred}\")"
      ],
      "metadata": {
        "colab": {
          "base_uri": "https://localhost:8080/"
        },
        "id": "AOIe8xkpvnZQ",
        "outputId": "d5f20df1-c84f-447e-b5fe-eabb4fac8356"
      },
      "execution_count": 12,
      "outputs": [
        {
          "output_type": "stream",
          "name": "stdout",
          "text": [
            "\n",
            "Final Results:\n",
            "Input: [0 0] → Output: 1\n",
            "Input: [0 1] → Output: 1\n",
            "Input: [1 0] → Output: 1\n",
            "Input: [1 1] → Output: 1\n"
          ]
        }
      ]
    }
  ]
}